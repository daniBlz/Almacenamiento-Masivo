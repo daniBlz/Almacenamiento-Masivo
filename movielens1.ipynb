{
 "cells": [
  {
   "cell_type": "code",
   "execution_count": 24,
   "metadata": {},
   "outputs": [],
   "source": [
    "import pandas as pd\n",
    "import numpy as np\n",
    "import matplotlib.pyplot as plt\n",
    "import time"
   ]
  },
  {
   "cell_type": "code",
   "execution_count": 11,
   "metadata": {},
   "outputs": [],
   "source": [
    "movies = pd.read_csv('movies.csv')\n",
    "ratings = pd.read_csv('ratings.csv')\n",
    "\n"
   ]
  },
  {
   "cell_type": "code",
   "execution_count": 28,
   "metadata": {},
   "outputs": [
    {
     "name": "stdout",
     "output_type": "stream",
     "text": [
      "4.0    7394710\n",
      "3.0    5515668\n",
      "5.0    4071135\n",
      "3.5    3404360\n",
      "4.5    2373550\n",
      "2.0    1850627\n",
      "2.5    1373419\n",
      "1.0     886233\n",
      "0.5     442388\n",
      "1.5     441354\n",
      "Name: rating, dtype: int64\n",
      "--- 0.6400096416473389 seconds ---\n"
     ]
    }
   ],
   "source": [
    "#Mostramos el numero de ratings \n",
    "start_time = time.time()\n",
    "print(ratings['rating'].value_counts())\n",
    "print(\"--- %s seconds ---\" % (time.time() - start_time))\n",
    "#Mostramos el tiempo de ejecucion\n"
   ]
  },
  {
   "cell_type": "code",
   "execution_count": 30,
   "metadata": {},
   "outputs": [
    {
     "name": "stdout",
     "output_type": "stream",
     "text": [
      "--- 8.461104154586792 seconds ---\n"
     ]
    },
    {
     "name": "stderr",
     "output_type": "stream",
     "text": [
      "C:\\Users\\danie\\AppData\\Local\\Temp/ipykernel_14100/137013038.py:4: FutureWarning: merging between different levels is deprecated and will be removed in a future version. (2 levels on the left, 1 on the right)\n",
      "  movie_mean_ratings = pd.merge(movie_ratings, movies, on='movieId')\n"
     ]
    }
   ],
   "source": [
    "start_time = time.time()\n",
    "\n",
    "movie_ratings = ratings.groupby('movieId').agg({'rating': [np.size, np.mean]})\n",
    "movie_mean_ratings = pd.merge(movie_ratings, movies, on='movieId')\n",
    "pd.write_csv('movies_ratings.csv', movie_mean_ratings)\n",
    "print(\"--- %s seconds ---\" % (time.time() - start_time))"
   ]
  },
  {
   "cell_type": "code",
   "execution_count": 33,
   "metadata": {},
   "outputs": [
    {
     "data": {
      "text/plain": [
       "movieId           0\n",
       "(rating, size)    0\n",
       "(rating, mean)    0\n",
       "title             0\n",
       "genres            0\n",
       "dtype: int64"
      ]
     },
     "execution_count": 33,
     "metadata": {},
     "output_type": "execute_result"
    }
   ],
   "source": [
    "movie_mean_ratings.isnull().sum()"
   ]
  }
 ],
 "metadata": {
  "kernelspec": {
   "display_name": "Python 3.9.0 64-bit",
   "language": "python",
   "name": "python3"
  },
  "language_info": {
   "codemirror_mode": {
    "name": "ipython",
    "version": 3
   },
   "file_extension": ".py",
   "mimetype": "text/x-python",
   "name": "python",
   "nbconvert_exporter": "python",
   "pygments_lexer": "ipython3",
   "version": "3.9.0"
  },
  "orig_nbformat": 4,
  "vscode": {
   "interpreter": {
    "hash": "a9960baf88259386db57c734c8604c8e4ab789688672644b3cf73fda24b112c6"
   }
  }
 },
 "nbformat": 4,
 "nbformat_minor": 2
}
