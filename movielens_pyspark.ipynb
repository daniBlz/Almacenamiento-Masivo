{
 "cells": [
  {
   "cell_type": "code",
   "execution_count": 10,
   "metadata": {},
   "outputs": [],
   "source": [
    "import findspark\n",
    "findspark.init()\n",
    "from pyspark import SparkConf, SparkContext\n",
    "from pyspark.sql import SparkSession\n",
    "import time"
   ]
  },
  {
   "cell_type": "code",
   "execution_count": 3,
   "metadata": {},
   "outputs": [],
   "source": [
    "sc = SparkSession.builder.master(\"local[*]\").getOrCreate()\n",
    "spark = SparkSession(sc)\n",
    "\n",
    "           \n",
    "                        \n"
   ]
  },
  {
   "cell_type": "code",
   "execution_count": 4,
   "metadata": {},
   "outputs": [],
   "source": [
    "movies = spark.read.csv('./movies.csv', header=True, inferSchema = 'true')\n",
    "ratings = spark.read.csv('./ratings.csv',header = True, inferSchema = 'true')             "
   ]
  },
  {
   "cell_type": "code",
   "execution_count": 5,
   "metadata": {},
   "outputs": [
    {
     "name": "stdout",
     "output_type": "stream",
     "text": [
      "+-------+--------------------+--------------------+\n",
      "|movieId|               title|              genres|\n",
      "+-------+--------------------+--------------------+\n",
      "|      1|    Toy Story (1995)|Adventure|Animati...|\n",
      "|      2|      Jumanji (1995)|Adventure|Childre...|\n",
      "|      3|Grumpier Old Men ...|      Comedy|Romance|\n",
      "|      4|Waiting to Exhale...|Comedy|Drama|Romance|\n",
      "|      5|Father of the Bri...|              Comedy|\n",
      "+-------+--------------------+--------------------+\n",
      "only showing top 5 rows\n",
      "\n"
     ]
    }
   ],
   "source": [
    "movies.show(5)"
   ]
  },
  {
   "cell_type": "code",
   "execution_count": 6,
   "metadata": {},
   "outputs": [
    {
     "name": "stdout",
     "output_type": "stream",
     "text": [
      "+------+-------+------+----------+\n",
      "|userId|movieId|rating| timestamp|\n",
      "+------+-------+------+----------+\n",
      "|     1|    307|   3.5|1256677221|\n",
      "|     1|    481|   3.5|1256677456|\n",
      "|     1|   1091|   1.5|1256677471|\n",
      "|     1|   1257|   4.5|1256677460|\n",
      "|     1|   1449|   4.5|1256677264|\n",
      "+------+-------+------+----------+\n",
      "only showing top 5 rows\n",
      "\n"
     ]
    }
   ],
   "source": [
    "ratings.show(5)"
   ]
  },
  {
   "cell_type": "code",
   "execution_count": 12,
   "metadata": {},
   "outputs": [
    {
     "name": "stdout",
     "output_type": "stream",
     "text": [
      "+------+-------+\n",
      "|rating|  count|\n",
      "+------+-------+\n",
      "|   4.0|7394710|\n",
      "|   3.0|5515668|\n",
      "|   5.0|4071135|\n",
      "|   3.5|3404360|\n",
      "|   4.5|2373550|\n",
      "|   2.0|1850627|\n",
      "|   2.5|1373419|\n",
      "|   1.0| 886233|\n",
      "|   0.5| 442388|\n",
      "|   1.5| 441354|\n",
      "+------+-------+\n",
      "\n",
      "--- 30.28105139732361 seconds ---\n"
     ]
    }
   ],
   "source": [
    "#Ratings rating value count ordenados de mayor a menor\n",
    "start_time = time.time()\n",
    "ratings.groupBy('rating').count().orderBy('count', ascending=False).show()\n",
    "print(\"--- %s seconds ---\" % (time.time() - start_time))"
   ]
  },
  {
   "cell_type": "code",
   "execution_count": 16,
   "metadata": {},
   "outputs": [
    {
     "name": "stdout",
     "output_type": "stream",
     "text": [
      "+-------+--------------------+--------------------+------------------+\n",
      "|movieId|               title|              genres|       avg(rating)|\n",
      "+-------+--------------------+--------------------+------------------+\n",
      "|   1591|        Spawn (1997)|Action|Adventure|...|2.6466656422864165|\n",
      "|   1645|The Devil's Advoc...|Drama|Mystery|Thr...|3.5352941176470587|\n",
      "|    471|Hudsucker Proxy, ...|              Comedy| 3.652908677283068|\n",
      "|   1088|Dirty Dancing (1987)|Drama|Musical|Rom...|3.2480141843971633|\n",
      "|   1580|Men in Black (a.k...|Action|Comedy|Sci-Fi| 3.578533203874726|\n",
      "+-------+--------------------+--------------------+------------------+\n",
      "only showing top 5 rows\n",
      "\n",
      "--- 31.876930236816406 seconds ---\n"
     ]
    }
   ],
   "source": [
    "start_time = time.time()\n",
    "means = ratings.groupBy('movieID').agg({'rating':'mean'})\n",
    "movie_rating = movies.join(means, on = 'movieID', how = 'inner')\n",
    "movie_rating.show(5)\n",
    "movie_rating.write.csv('movie_rating.csv')\n",
    "print(\"--- %s seconds ---\" % (time.time() - start_time))"
   ]
  }
 ],
 "metadata": {
  "kernelspec": {
   "display_name": "Python 3.6.13 ('Spark_Env')",
   "language": "python",
   "name": "python3"
  },
  "language_info": {
   "codemirror_mode": {
    "name": "ipython",
    "version": 3
   },
   "file_extension": ".py",
   "mimetype": "text/x-python",
   "name": "python",
   "nbconvert_exporter": "python",
   "pygments_lexer": "ipython3",
   "version": "3.6.13"
  },
  "orig_nbformat": 4,
  "vscode": {
   "interpreter": {
    "hash": "979e52fb9bc39acac553587675978a2015bfd1742449a3b8b53119b20e6e1fb5"
   }
  }
 },
 "nbformat": 4,
 "nbformat_minor": 2
}
